{
 "cells": [
  {
   "cell_type": "markdown",
   "id": "90622c79",
   "metadata": {},
   "source": [
    " langchain expression language(lcel) to chain comp together"
   ]
  },
  {
   "cell_type": "code",
   "execution_count": null,
   "id": "8fea05ed",
   "metadata": {},
   "outputs": [
    {
     "data": {
      "text/plain": [
       "ChatGroq(client=<groq.resources.chat.completions.Completions object at 0x00000289E88237C0>, async_client=<groq.resources.chat.completions.AsyncCompletions object at 0x00000289E8823010>, model_name='gemma2-9b-it', model_kwargs={}, groq_api_key=SecretStr('**********'))"
      ]
     },
     "execution_count": 43,
     "metadata": {},
     "output_type": "execute_result"
    }
   ],
   "source": [
    "# opensouce model--LLama3, Gemma2, mistral--groq\n",
    "from langchain_openai import ChatOpenAI\n",
    "from langchain_groq import ChatGroq\n",
    "model=ChatGroq(model=\"gemma2-9b-it\",groq_api_key=\"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\")\n",
    "model"
   ]
  },
  {
   "cell_type": "code",
   "execution_count": 38,
   "id": "5e783736",
   "metadata": {},
   "outputs": [
    {
     "name": "stdout",
     "output_type": "stream",
     "text": [
      "Requirement already satisfied: langchain_core in c:\\users\\sweta\\desktop\\udemy\\langchain\\venv\\lib\\site-packages (0.3.65)Note: you may need to restart the kernel to use updated packages.\n",
      "\n",
      "Requirement already satisfied: langsmith<0.4,>=0.3.45 in c:\\users\\sweta\\desktop\\udemy\\langchain\\venv\\lib\\site-packages (from langchain_core) (0.3.45)\n",
      "Requirement already satisfied: tenacity!=8.4.0,<10.0.0,>=8.1.0 in c:\\users\\sweta\\desktop\\udemy\\langchain\\venv\\lib\\site-packages (from langchain_core) (9.1.2)\n",
      "Requirement already satisfied: jsonpatch<2.0,>=1.33 in c:\\users\\sweta\\desktop\\udemy\\langchain\\venv\\lib\\site-packages (from langchain_core) (1.33)\n",
      "Requirement already satisfied: PyYAML>=5.3 in c:\\users\\sweta\\desktop\\udemy\\langchain\\venv\\lib\\site-packages (from langchain_core) (6.0.2)\n",
      "Requirement already satisfied: packaging<25,>=23.2 in c:\\users\\sweta\\desktop\\udemy\\langchain\\venv\\lib\\site-packages (from langchain_core) (24.2)\n",
      "Requirement already satisfied: typing-extensions>=4.7 in c:\\users\\sweta\\desktop\\udemy\\langchain\\venv\\lib\\site-packages (from langchain_core) (4.14.0)\n",
      "Requirement already satisfied: pydantic>=2.7.4 in c:\\users\\sweta\\desktop\\udemy\\langchain\\venv\\lib\\site-packages (from langchain_core) (2.11.5)\n",
      "Requirement already satisfied: jsonpointer>=1.9 in c:\\users\\sweta\\desktop\\udemy\\langchain\\venv\\lib\\site-packages (from jsonpatch<2.0,>=1.33->langchain_core) (3.0.0)\n",
      "Requirement already satisfied: httpx<1,>=0.23.0 in c:\\users\\sweta\\desktop\\udemy\\langchain\\venv\\lib\\site-packages (from langsmith<0.4,>=0.3.45->langchain_core) (0.28.1)\n",
      "Requirement already satisfied: orjson<4.0.0,>=3.9.14 in c:\\users\\sweta\\desktop\\udemy\\langchain\\venv\\lib\\site-packages (from langsmith<0.4,>=0.3.45->langchain_core) (3.10.18)\n",
      "Requirement already satisfied: requests<3,>=2 in c:\\users\\sweta\\desktop\\udemy\\langchain\\venv\\lib\\site-packages (from langsmith<0.4,>=0.3.45->langchain_core) (2.32.3)\n",
      "Requirement already satisfied: requests-toolbelt<2.0.0,>=1.0.0 in c:\\users\\sweta\\desktop\\udemy\\langchain\\venv\\lib\\site-packages (from langsmith<0.4,>=0.3.45->langchain_core) (1.0.0)\n",
      "Requirement already satisfied: zstandard<0.24.0,>=0.23.0 in c:\\users\\sweta\\desktop\\udemy\\langchain\\venv\\lib\\site-packages (from langsmith<0.4,>=0.3.45->langchain_core) (0.23.0)\n",
      "Requirement already satisfied: anyio in c:\\users\\sweta\\desktop\\udemy\\langchain\\venv\\lib\\site-packages (from httpx<1,>=0.23.0->langsmith<0.4,>=0.3.45->langchain_core) (4.9.0)\n",
      "Requirement already satisfied: certifi in c:\\users\\sweta\\desktop\\udemy\\langchain\\venv\\lib\\site-packages (from httpx<1,>=0.23.0->langsmith<0.4,>=0.3.45->langchain_core) (2025.4.26)\n",
      "Requirement already satisfied: httpcore==1.* in c:\\users\\sweta\\desktop\\udemy\\langchain\\venv\\lib\\site-packages (from httpx<1,>=0.23.0->langsmith<0.4,>=0.3.45->langchain_core) (1.0.9)\n",
      "Requirement already satisfied: idna in c:\\users\\sweta\\desktop\\udemy\\langchain\\venv\\lib\\site-packages (from httpx<1,>=0.23.0->langsmith<0.4,>=0.3.45->langchain_core) (3.10)\n",
      "Requirement already satisfied: h11>=0.16 in c:\\users\\sweta\\desktop\\udemy\\langchain\\venv\\lib\\site-packages (from httpcore==1.*->httpx<1,>=0.23.0->langsmith<0.4,>=0.3.45->langchain_core) (0.16.0)\n",
      "Requirement already satisfied: annotated-types>=0.6.0 in c:\\users\\sweta\\desktop\\udemy\\langchain\\venv\\lib\\site-packages (from pydantic>=2.7.4->langchain_core) (0.7.0)\n",
      "Requirement already satisfied: pydantic-core==2.33.2 in c:\\users\\sweta\\desktop\\udemy\\langchain\\venv\\lib\\site-packages (from pydantic>=2.7.4->langchain_core) (2.33.2)\n",
      "Requirement already satisfied: typing-inspection>=0.4.0 in c:\\users\\sweta\\desktop\\udemy\\langchain\\venv\\lib\\site-packages (from pydantic>=2.7.4->langchain_core) (0.4.1)\n",
      "Requirement already satisfied: charset-normalizer<4,>=2 in c:\\users\\sweta\\desktop\\udemy\\langchain\\venv\\lib\\site-packages (from requests<3,>=2->langsmith<0.4,>=0.3.45->langchain_core) (3.4.2)\n",
      "Requirement already satisfied: urllib3<3,>=1.21.1 in c:\\users\\sweta\\desktop\\udemy\\langchain\\venv\\lib\\site-packages (from requests<3,>=2->langsmith<0.4,>=0.3.45->langchain_core) (2.4.0)\n",
      "Requirement already satisfied: exceptiongroup>=1.0.2 in c:\\users\\sweta\\desktop\\udemy\\langchain\\venv\\lib\\site-packages (from anyio->httpx<1,>=0.23.0->langsmith<0.4,>=0.3.45->langchain_core) (1.3.0)\n",
      "Requirement already satisfied: sniffio>=1.1 in c:\\users\\sweta\\desktop\\udemy\\langchain\\venv\\lib\\site-packages (from anyio->httpx<1,>=0.23.0->langsmith<0.4,>=0.3.45->langchain_core) (1.3.1)\n"
     ]
    }
   ],
   "source": [
    "pip install langchain_core"
   ]
  },
  {
   "cell_type": "code",
   "execution_count": 48,
   "id": "1e6cf0b4",
   "metadata": {},
   "outputs": [],
   "source": [
    "from langchain_core.messages import HumanMessage,SystemMessage\n",
    "\n",
    "messages = [\n",
    "    SystemMessage(content=\"Translate the following from English to French\"), \n",
    "    HumanMessage(content=\"Hello, how are you?\")\n",
    "]\n",
    "result=model.invoke(messages)\n"
   ]
  },
  {
   "cell_type": "code",
   "execution_count": 49,
   "id": "31895657",
   "metadata": {},
   "outputs": [
    {
     "data": {
      "text/plain": [
       "AIMessage(content='Bonjour, comment allez-vous ? \\n\\n\\n(This is the formal version. For a more informal greeting with someone you know well, you could use \"Comment vas-tu?\")\\n', additional_kwargs={}, response_metadata={'token_usage': {'completion_tokens': 39, 'prompt_tokens': 22, 'total_tokens': 61, 'completion_time': 0.070909091, 'prompt_time': 0.002056018, 'queue_time': 0.24416927200000002, 'total_time': 0.072965109}, 'model_name': 'gemma2-9b-it', 'system_fingerprint': 'fp_10c08bf97d', 'finish_reason': 'stop', 'logprobs': None}, id='run--a7531bb1-8185-4eff-86f1-ae4ea9461514-0', usage_metadata={'input_tokens': 22, 'output_tokens': 39, 'total_tokens': 61})"
      ]
     },
     "execution_count": 49,
     "metadata": {},
     "output_type": "execute_result"
    }
   ],
   "source": [
    "result"
   ]
  },
  {
   "cell_type": "code",
   "execution_count": 52,
   "id": "72a8f144",
   "metadata": {},
   "outputs": [
    {
     "data": {
      "text/plain": [
       "'Bonjour, comment allez-vous ? \\n\\n\\n(This is the formal version. For a more informal greeting with someone you know well, you could use \"Comment vas-tu?\")\\n'"
      ]
     },
     "execution_count": 52,
     "metadata": {},
     "output_type": "execute_result"
    }
   ],
   "source": [
    "from langchain_core.output_parsers import StrOutputParser\n",
    "parser=StrOutputParser()\n",
    "parser.invoke(result)\n"
   ]
  },
  {
   "cell_type": "code",
   "execution_count": 54,
   "id": "b32031be",
   "metadata": {},
   "outputs": [
    {
     "data": {
      "text/plain": [
       "'Bonjour, comment allez-vous ? \\n\\n\\nThis is the most common and formal way to say \"Hello, how are you?\" in French. \\n\\nHere are some other options:\\n\\n* **Salut, ça va ?** (Informal, used with friends)\\n* **Bonsoir, comment allez-vous ?** (Good evening, how are you?)\\n* **Coucou, ça va ?** (Very informal, used with close friends) \\n\\n\\n\\nLet me know if you\\'d like to translate anything else!\\n'"
      ]
     },
     "execution_count": 54,
     "metadata": {},
     "output_type": "execute_result"
    }
   ],
   "source": [
    "# using lcel to chain the components together\n",
    "chain=model| parser\n",
    "chain.invoke(messages)"
   ]
  },
  {
   "cell_type": "code",
   "execution_count": 56,
   "id": "e3e5e71f",
   "metadata": {},
   "outputs": [],
   "source": [
    "# prompt template\n",
    "from langchain_core.prompts import ChatPromptTemplate\n",
    "generic_template =\"Translate the following into {language}:\"\n",
    "\n",
    "prompt=ChatPromptTemplate.from_messages(\n",
    "    [(\"system\",generic_template),(\"user\",\"{text}\")]\n",
    ")"
   ]
  },
  {
   "cell_type": "code",
   "execution_count": 58,
   "id": "57199ef4",
   "metadata": {},
   "outputs": [],
   "source": [
    "result=prompt.invoke({\"language\":\"French\",\"text\":\"Hello, how are you?\"})\n",
    "# Converting to list of messages"
   ]
  },
  {
   "cell_type": "code",
   "execution_count": 60,
   "id": "a075b6e2",
   "metadata": {},
   "outputs": [
    {
     "data": {
      "text/plain": [
       "[SystemMessage(content='Translate the following into French:', additional_kwargs={}, response_metadata={}),\n",
       " HumanMessage(content='Hello, how are you?', additional_kwargs={}, response_metadata={})]"
      ]
     },
     "execution_count": 60,
     "metadata": {},
     "output_type": "execute_result"
    }
   ],
   "source": [
    "result.to_messages()"
   ]
  },
  {
   "cell_type": "code",
   "execution_count": 61,
   "id": "e03d76ae",
   "metadata": {},
   "outputs": [
    {
     "data": {
      "text/plain": [
       "'Bonjour \\n\\n\\nYou can also use:\\n\\n* Salut (informal)\\n* Coucou (informal, like \"hi\" or \"hey\")\\n'"
      ]
     },
     "execution_count": 61,
     "metadata": {},
     "output_type": "execute_result"
    }
   ],
   "source": [
    "chain=prompt | model | parser\n",
    "chain.invoke({\"language\":\"French\",\"text\":\"Hello\"})"
   ]
  }
 ],
 "metadata": {
  "kernelspec": {
   "display_name": "Python 3",
   "language": "python",
   "name": "python3"
  },
  "language_info": {
   "codemirror_mode": {
    "name": "ipython",
    "version": 3
   },
   "file_extension": ".py",
   "mimetype": "text/x-python",
   "name": "python",
   "nbconvert_exporter": "python",
   "pygments_lexer": "ipython3",
   "version": "3.10.0"
  }
 },
 "nbformat": 4,
 "nbformat_minor": 5
}
