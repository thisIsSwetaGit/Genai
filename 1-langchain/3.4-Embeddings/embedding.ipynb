{
 "cells": [
  {
   "cell_type": "markdown",
   "id": "6b0ee85c",
   "metadata": {},
   "source": [
    "### embedding\n",
    "converting text into vectors\n",
    " \n",
    " "
   ]
  },
  {
   "cell_type": "code",
   "execution_count": 2,
   "id": "fd0eec65",
   "metadata": {},
   "outputs": [
    {
     "data": {
      "text/plain": [
       "False"
      ]
     },
     "execution_count": 2,
     "metadata": {},
     "output_type": "execute_result"
    }
   ],
   "source": [
    "import os\n",
    "from dotenv import load_dotenv\n",
    "load_dotenv() # Load environment variables from a .env file\n"
   ]
  },
  {
   "cell_type": "code",
   "execution_count": null,
   "id": "96374bf6",
   "metadata": {},
   "outputs": [],
   "source": [
    "os.environ[\"OPENAI_API_KEY\"] = os.getenv(\"OPENAI_API_KEY\")"
   ]
  },
  {
   "cell_type": "code",
   "execution_count": null,
   "id": "b05df51b",
   "metadata": {},
   "outputs": [],
   "source": [
    "from langchain_openai import OpenAIEmbeddings\n",
    "emb=OpenAIEmbeddings(model=\"text-embedding-3-large\")\n"
   ]
  },
  {
   "cell_type": "code",
   "execution_count": null,
   "id": "f34daf80",
   "metadata": {},
   "outputs": [],
   "source": [
    "text=\"this is a test sentence to be embedded using OpenAI's text-embedding-3-large model.\"\n",
    "quer_result = emb.embed_query(text)\n",
    "print(quer_result)"
   ]
  },
  {
   "cell_type": "code",
   "execution_count": null,
   "id": "3877b791",
   "metadata": {},
   "outputs": [],
   "source": [
    "len(quer_result)  # Should print the length of the embedding vector"
   ]
  },
  {
   "cell_type": "code",
   "execution_count": 8,
   "id": "1b144672",
   "metadata": {},
   "outputs": [
    {
     "data": {
      "text/plain": [
       "[Document(metadata={'source': 'speech.txt'}, page_content=\"ou can find LeetCode links for problems \\navailable on the internet. However few problems \\nare not there on LeetCode for which you will not \\nfind a practice link attached. We cannot use \\nthird-party links due to legal constraints. \\nAlso the newly added TUF+ practice links are \\nto give you a free trial of TUF+ which a lot\\n of people asked for. If you don't wish to \\n upgrade, you can still use the TUF platform,\\n  nothing has changed.\\n\\nRemember, you started using our website because \\nof our content and not because of some third party\\nlinks \")]"
      ]
     },
     "execution_count": 8,
     "metadata": {},
     "output_type": "execute_result"
    }
   ],
   "source": [
    "from langchain_community.document_loaders import TextLoader\n",
    "loader = TextLoader(\"speech.txt\")\n",
    "docs = loader.load()\n",
    "docs"
   ]
  },
  {
   "cell_type": "code",
   "execution_count": 9,
   "id": "8935e5f5",
   "metadata": {},
   "outputs": [
    {
     "data": {
      "text/plain": [
       "[Document(metadata={'source': 'speech.txt'}, page_content=\"ou can find LeetCode links for problems \\navailable on the internet. However few problems \\nare not there on LeetCode for which you will not \\nfind a practice link attached. We cannot use \\nthird-party links due to legal constraints. \\nAlso the newly added TUF+ practice links are \\nto give you a free trial of TUF+ which a lot\\n of people asked for. If you don't wish to \\n upgrade, you can still use the TUF platform,\\n  nothing has changed.\"),\n",
       " Document(metadata={'source': 'speech.txt'}, page_content='Remember, you started using our website because \\nof our content and not because of some third party\\nlinks')]"
      ]
     },
     "execution_count": 9,
     "metadata": {},
     "output_type": "execute_result"
    }
   ],
   "source": [
    "from langchain.text_splitter import RecursiveCharacterTextSplitter\n",
    "\n",
    "text_splitter = RecursiveCharacterTextSplitter(chunk_size=500,chunk_overlap=50)\n",
    "texts = text_splitter.split_documents(docs)\n",
    "texts"
   ]
  },
  {
   "cell_type": "code",
   "execution_count": null,
   "id": "d7f6b0d5",
   "metadata": {},
   "outputs": [],
   "source": [
    "# vector embedding and vector store creation\n",
    "from langchain_community.vectorstores import Chroma\n",
    "\n",
    "db=Chroma.from_documents(texts,emb)\n",
    "db"
   ]
  },
  {
   "cell_type": "code",
   "execution_count": null,
   "id": "72c012bd",
   "metadata": {},
   "outputs": [],
   "source": [
    "query=\"Also the newly added TUF+ practice\"\n",
    "retrieved=db.similarity_search(query)\n",
    "retrieved"
   ]
  }
 ],
 "metadata": {
  "kernelspec": {
   "display_name": "Python 3",
   "language": "python",
   "name": "python3"
  },
  "language_info": {
   "codemirror_mode": {
    "name": "ipython",
    "version": 3
   },
   "file_extension": ".py",
   "mimetype": "text/x-python",
   "name": "python",
   "nbconvert_exporter": "python",
   "pygments_lexer": "ipython3",
   "version": "3.10.0"
  }
 },
 "nbformat": 4,
 "nbformat_minor": 5
}
