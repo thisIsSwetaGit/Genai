{
 "cells": [
  {
   "cell_type": "code",
   "execution_count": 3,
   "id": "a21020e5",
   "metadata": {},
   "outputs": [
    {
     "data": {
      "text/plain": [
       "[Document(metadata={'producer': 'PyPDF', 'creator': 'Microsoft Word', 'creationdate': '2025-02-05T05:08:52+00:00', 'author': 'swasthik mohanty', 'moddate': '2025-02-05T05:08:52+00:00', 'source': 'attention.pdf', 'total_pages': 1, 'page': 0, 'page_label': '1'}, page_content='Statement of Purpose \\n \\n \\n \\nI am Sweta Dutta, a third-year B.Tech student in Electrical Engineering at the Odisha University of \\nTechnology and Research, Bhubaneswar, holding a CGPA of 8.45. My deep passion for Artificial \\nIntelligence ,Machine Learning and Deep Learning drives me to explore their applications in Signal \\nProcessing and Computer Vision. Being from a tier 2 College with minimum opportunity ,the Summer \\nResearch Internship 2025 at IIT Kharagpur under Prof. \\nAurobinda Routray provides an exceptional platform to broaden my expertise and contribute to \\nimpactful research in these fields. \\nThroughout my academic journey, I have undertaken several notable projects that demonstrate my \\nenthusiasm for AI and technology integration. Key highlights include: \\n1. House Price Prediction \\nTechniques Used: Linear Regression \\nFrameworks/Libraries: Python, NumPy, Pandas, Scikit-learn, Matplotlib \\n \\n2. Iris Flower Classification \\nTechniques Used: Decision Tree Classification \\nFrameworks/Libraries: Python, Scikit-learn, Pandas, NumPy, Matplotlib, Seaborn \\n \\nThis internship presents an incredible opportunity to gain exposure to cutting-edge research and \\nproduct development at IIT Kharagpur. I am eager to contribute to ongoing projects, enhance my \\ntechnical expertise in machine learning and natural language processing, and learn under the \\nguidance of accomplished researchers like Prof. Routray. This experience will play a pivotal role in \\nshaping my future endeavours and advancing my aspiration to make impactful contributions to AI \\nand its applications. \\nThankyou for considering my application.  \\n \\nSincerely, \\nSweta Dutta \\nEmail: swetadutta172003@gmail.com phone: \\n9861695029')]"
      ]
     },
     "execution_count": 3,
     "metadata": {},
     "output_type": "execute_result"
    }
   ],
   "source": [
    "# reading a pdf file\n",
    "from langchain_community.document_loaders import PyPDFLoader\n",
    "loader=PyPDFLoader('attention.pdf')\n",
    "docs=loader.load()\n",
    "docs"
   ]
  },
  {
   "cell_type": "markdown",
   "id": "548c3152",
   "metadata": {},
   "source": [
    "###  how to recursively split text by character"
   ]
  },
  {
   "cell_type": "code",
   "execution_count": 8,
   "id": "b207d64c",
   "metadata": {},
   "outputs": [
    {
     "data": {
      "text/plain": [
       "[Document(metadata={'producer': 'PyPDF', 'creator': 'Microsoft Word', 'creationdate': '2025-02-05T05:08:52+00:00', 'author': 'swasthik mohanty', 'moddate': '2025-02-05T05:08:52+00:00', 'source': 'attention.pdf', 'total_pages': 1, 'page': 0, 'page_label': '1'}, page_content='Statement of Purpose \\n \\n \\n \\nI am Sweta Dutta, a third-year B.Tech student in Electrical Engineering at the Odisha University of \\nTechnology and Research, Bhubaneswar, holding a CGPA of 8.45. My deep passion for Artificial \\nIntelligence ,Machine Learning and Deep Learning drives me to explore their applications in Signal \\nProcessing and Computer Vision. Being from a tier 2 College with minimum opportunity ,the Summer \\nResearch Internship 2025 at IIT Kharagpur under Prof.'),\n",
       " Document(metadata={'producer': 'PyPDF', 'creator': 'Microsoft Word', 'creationdate': '2025-02-05T05:08:52+00:00', 'author': 'swasthik mohanty', 'moddate': '2025-02-05T05:08:52+00:00', 'source': 'attention.pdf', 'total_pages': 1, 'page': 0, 'page_label': '1'}, page_content='Aurobinda Routray provides an exceptional platform to broaden my expertise and contribute to \\nimpactful research in these fields. \\nThroughout my academic journey, I have undertaken several notable projects that demonstrate my \\nenthusiasm for AI and technology integration. Key highlights include: \\n1. House Price Prediction \\nTechniques Used: Linear Regression \\nFrameworks/Libraries: Python, NumPy, Pandas, Scikit-learn, Matplotlib \\n \\n2. Iris Flower Classification'),\n",
       " Document(metadata={'producer': 'PyPDF', 'creator': 'Microsoft Word', 'creationdate': '2025-02-05T05:08:52+00:00', 'author': 'swasthik mohanty', 'moddate': '2025-02-05T05:08:52+00:00', 'source': 'attention.pdf', 'total_pages': 1, 'page': 0, 'page_label': '1'}, page_content='2. Iris Flower Classification \\nTechniques Used: Decision Tree Classification \\nFrameworks/Libraries: Python, Scikit-learn, Pandas, NumPy, Matplotlib, Seaborn \\n \\nThis internship presents an incredible opportunity to gain exposure to cutting-edge research and \\nproduct development at IIT Kharagpur. I am eager to contribute to ongoing projects, enhance my \\ntechnical expertise in machine learning and natural language processing, and learn under the'),\n",
       " Document(metadata={'producer': 'PyPDF', 'creator': 'Microsoft Word', 'creationdate': '2025-02-05T05:08:52+00:00', 'author': 'swasthik mohanty', 'moddate': '2025-02-05T05:08:52+00:00', 'source': 'attention.pdf', 'total_pages': 1, 'page': 0, 'page_label': '1'}, page_content='guidance of accomplished researchers like Prof. Routray. This experience will play a pivotal role in \\nshaping my future endeavours and advancing my aspiration to make impactful contributions to AI \\nand its applications. \\nThankyou for considering my application.  \\n \\nSincerely, \\nSweta Dutta \\nEmail: swetadutta172003@gmail.com phone: \\n9861695029')]"
      ]
     },
     "execution_count": 8,
     "metadata": {},
     "output_type": "execute_result"
    }
   ],
   "source": [
    "from langchain.text_splitter import RecursiveCharacterTextSplitter\n",
    "\n",
    "text_splitter = RecursiveCharacterTextSplitter(chunk_size=500,chunk_overlap=50)\n",
    "texts = text_splitter.split_documents(docs)\n",
    "texts\n"
   ]
  },
  {
   "cell_type": "code",
   "execution_count": 9,
   "id": "f9577343",
   "metadata": {},
   "outputs": [
    {
     "name": "stdout",
     "output_type": "stream",
     "text": [
      "page_content='Statement of Purpose \n",
      " \n",
      " \n",
      " \n",
      "I am Sweta Dutta, a third-year B.Tech student in Electrical Engineering at the Odisha University of \n",
      "Technology and Research, Bhubaneswar, holding a CGPA of 8.45. My deep passion for Artificial \n",
      "Intelligence ,Machine Learning and Deep Learning drives me to explore their applications in Signal \n",
      "Processing and Computer Vision. Being from a tier 2 College with minimum opportunity ,the Summer \n",
      "Research Internship 2025 at IIT Kharagpur under Prof.' metadata={'producer': 'PyPDF', 'creator': 'Microsoft Word', 'creationdate': '2025-02-05T05:08:52+00:00', 'author': 'swasthik mohanty', 'moddate': '2025-02-05T05:08:52+00:00', 'source': 'attention.pdf', 'total_pages': 1, 'page': 0, 'page_label': '1'}\n",
      "page_content='Aurobinda Routray provides an exceptional platform to broaden my expertise and contribute to \n",
      "impactful research in these fields. \n",
      "Throughout my academic journey, I have undertaken several notable projects that demonstrate my \n",
      "enthusiasm for AI and technology integration. Key highlights include: \n",
      "1. House Price Prediction \n",
      "Techniques Used: Linear Regression \n",
      "Frameworks/Libraries: Python, NumPy, Pandas, Scikit-learn, Matplotlib \n",
      " \n",
      "2. Iris Flower Classification' metadata={'producer': 'PyPDF', 'creator': 'Microsoft Word', 'creationdate': '2025-02-05T05:08:52+00:00', 'author': 'swasthik mohanty', 'moddate': '2025-02-05T05:08:52+00:00', 'source': 'attention.pdf', 'total_pages': 1, 'page': 0, 'page_label': '1'}\n"
     ]
    }
   ],
   "source": [
    "print(texts[0])\n",
    "print(texts[1])"
   ]
  },
  {
   "cell_type": "code",
   "execution_count": 10,
   "id": "0c581a9a",
   "metadata": {},
   "outputs": [
    {
     "data": {
      "text/plain": [
       "[Document(metadata={'source': 'speech.txt'}, page_content=\"ou can find LeetCode links for problems \\navailable on the internet. However few problems \\nare not there on LeetCode for which you will not \\nfind a practice link attached. We cannot use \\nthird-party links due to legal constraints. \\nAlso the newly added TUF+ practice links are \\nto give you a free trial of TUF+ which a lot\\n of people asked for. If you don't wish to \\n upgrade, you can still use the TUF platform,\\n  nothing has changed.\\n\\nRemember, you started using our website because \\nof our content and not because of some third party\\nlinks \")]"
      ]
     },
     "execution_count": 10,
     "metadata": {},
     "output_type": "execute_result"
    }
   ],
   "source": [
    "# Text Loader\n",
    "from langchain_community.document_loaders import TextLoader\n",
    "\n",
    "loader=TextLoader('speech.txt')\n",
    "docs=loader.load()\n",
    "docs"
   ]
  },
  {
   "cell_type": "code",
   "execution_count": 16,
   "id": "f0a59bae",
   "metadata": {},
   "outputs": [
    {
     "name": "stdout",
     "output_type": "stream",
     "text": [
      "page_content='ou can find LeetCode links for problems'\n"
     ]
    }
   ],
   "source": [
    "with open(\"speech.txt\") as file:\n",
    "    text = file.read()\n",
    "text\n",
    "text_splitter = RecursiveCharacterTextSplitter(chunk_size=50,chunk_overlap=5)\n",
    "\n",
    "text= text_splitter.create_documents([text]) #convert text to Document\n",
    "print(text[0])"
   ]
  },
  {
   "cell_type": "markdown",
   "id": "0d29fb2e",
   "metadata": {},
   "source": [
    "3.4-character text splitter \n"
   ]
  },
  {
   "cell_type": "code",
   "execution_count": 18,
   "id": "0df8a8ed",
   "metadata": {},
   "outputs": [
    {
     "data": {
      "text/plain": [
       "[Document(metadata={}, page_content='ou can find LeetCode links for problems'),\n",
       " Document(metadata={}, page_content='available on the internet. However few problems'),\n",
       " Document(metadata={}, page_content='are not there on LeetCode for which you will not'),\n",
       " Document(metadata={}, page_content='find a practice link attached. We cannot use'),\n",
       " Document(metadata={}, page_content='third-party links due to legal constraints.'),\n",
       " Document(metadata={}, page_content='Also the newly added TUF+ practice links are'),\n",
       " Document(metadata={}, page_content='to give you a free trial of TUF+ which a lot'),\n",
       " Document(metadata={}, page_content=\"of people asked for. If you don't wish to\"),\n",
       " Document(metadata={}, page_content='upgrade, you can still use the TUF platform,'),\n",
       " Document(metadata={}, page_content='nothing has changed.'),\n",
       " Document(metadata={}, page_content='Remember, you started using our website because'),\n",
       " Document(metadata={}, page_content='of our content and not because of some third'),\n",
       " Document(metadata={}, page_content='party'),\n",
       " Document(metadata={}, page_content='links')]"
      ]
     },
     "execution_count": 18,
     "metadata": {},
     "output_type": "execute_result"
    }
   ],
   "source": [
    "from langchain_text_splitters import CharacterTextSplitter\n",
    "text_splitter = CharacterTextSplitter(separator=\"\\n\\n\",chunk_size=50, chunk_overlap=5)\n",
    "text_splitter.split_documents(text)"
   ]
  },
  {
   "cell_type": "code",
   "execution_count": 20,
   "id": "8822f1e7",
   "metadata": {},
   "outputs": [
    {
     "data": {
      "text/plain": [
       "[Document(metadata={}, page_content='ou can find LeetCode links for problems'),\n",
       " Document(metadata={}, page_content='available on the internet. However few problems'),\n",
       " Document(metadata={}, page_content='are not there on LeetCode for which you will not'),\n",
       " Document(metadata={}, page_content='find a practice link attached. We cannot use'),\n",
       " Document(metadata={}, page_content='third-party links due to legal constraints.'),\n",
       " Document(metadata={}, page_content='Also the newly added TUF+ practice links are'),\n",
       " Document(metadata={}, page_content='to give you a free trial of TUF+ which a lot'),\n",
       " Document(metadata={}, page_content=\"of people asked for. If you don't wish to\"),\n",
       " Document(metadata={}, page_content='upgrade, you can still use the TUF platform,'),\n",
       " Document(metadata={}, page_content='nothing has changed.'),\n",
       " Document(metadata={}, page_content='Remember, you started using our website because'),\n",
       " Document(metadata={}, page_content='of our content and not because of some third'),\n",
       " Document(metadata={}, page_content='party'),\n",
       " Document(metadata={}, page_content='links')]"
      ]
     },
     "execution_count": 20,
     "metadata": {},
     "output_type": "execute_result"
    }
   ],
   "source": [
    "speech=\" \"\n",
    "with open(\"speech.txt\") as file:\n",
    "    speech = file.read()\n",
    "text_splitter=CharacterTextSplitter(chunk_size=50,chunk_overlap=5)\n",
    "text_splitter.split_documents(text)"
   ]
  }
 ],
 "metadata": {
  "kernelspec": {
   "display_name": "Python 3",
   "language": "python",
   "name": "python3"
  },
  "language_info": {
   "codemirror_mode": {
    "name": "ipython",
    "version": 3
   },
   "file_extension": ".py",
   "mimetype": "text/x-python",
   "name": "python",
   "nbconvert_exporter": "python",
   "pygments_lexer": "ipython3",
   "version": "3.10.0"
  }
 },
 "nbformat": 4,
 "nbformat_minor": 5
}
