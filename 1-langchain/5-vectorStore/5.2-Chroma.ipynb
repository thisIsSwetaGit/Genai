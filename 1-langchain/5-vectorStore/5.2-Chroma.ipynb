{
 "cells": [
  {
   "cell_type": "code",
   "execution_count": 5,
   "id": "82a4c442",
   "metadata": {},
   "outputs": [],
   "source": [
    "# pip install langchain_chroma"
   ]
  },
  {
   "cell_type": "code",
   "execution_count": 6,
   "id": "2186202b",
   "metadata": {},
   "outputs": [],
   "source": [
    "# building a sample vector db\n",
    "from langchain_chroma import Chroma\n",
    "from langchain_community.document_loaders import TextLoader\n",
    "from langchain_community.embeddings import OllamaEmbeddings\n",
    "from langchain_text_splitters import RecursiveCharacterTextSplitter\n"
   ]
  },
  {
   "cell_type": "code",
   "execution_count": 7,
   "id": "fb22a085",
   "metadata": {},
   "outputs": [
    {
     "data": {
      "text/plain": [
       "[Document(metadata={'source': 'speech.txt'}, page_content=\"Life has a beautiful way of surprising us when we least expect it. In moments of difficulty, even a small gesture of kindness can bring immense comfort. Whether it's a warm smile, a thoughtful message, or simply someone showing up when you're down, these acts remind us that we are not alone. Healing isn't always about medicine—sometimes, it's about presence. The care we receive during our weakest times becomes a memory we carry forever. Gratitude grows quietly but deeply in such moments. And sometimes, just one person, arriving with love and sincerity, can make all the difference in the world.\\n\\n\")]"
      ]
     },
     "execution_count": 7,
     "metadata": {},
     "output_type": "execute_result"
    }
   ],
   "source": [
    "loader= TextLoader(\"speech.txt\")\n",
    "docs= loader.load()\n",
    "docs"
   ]
  },
  {
   "cell_type": "code",
   "execution_count": 8,
   "id": "61b07c40",
   "metadata": {},
   "outputs": [],
   "source": [
    "# split\n",
    "text_splitter = RecursiveCharacterTextSplitter(chunk_size=1000, chunk_overlap=200)\n",
    "texts = text_splitter.split_documents(docs)"
   ]
  },
  {
   "cell_type": "code",
   "execution_count": 10,
   "id": "4a0f88cc",
   "metadata": {},
   "outputs": [
    {
     "data": {
      "text/plain": [
       "<langchain_chroma.vectorstores.Chroma at 0x20b222b2ef0>"
      ]
     },
     "execution_count": 10,
     "metadata": {},
     "output_type": "execute_result"
    }
   ],
   "source": [
    "embeddings=OllamaEmbeddings(model=\"gemma:2b\")\n",
    "vector_db = Chroma.from_documents(texts, embeddings)\n",
    "vector_db"
   ]
  },
  {
   "cell_type": "code",
   "execution_count": 11,
   "id": "93e8d6e6",
   "metadata": {},
   "outputs": [
    {
     "data": {
      "text/plain": [
       "\"Life has a beautiful way of surprising us when we least expect it. In moments of difficulty, even a small gesture of kindness can bring immense comfort. Whether it's a warm smile, a thoughtful message, or simply someone showing up when you're down, these acts remind us that we are not alone. Healing isn't always about medicine—sometimes, it's about presence. The care we receive during our weakest times becomes a memory we carry forever. Gratitude grows quietly but deeply in such moments. And sometimes, just one person, arriving with love and sincerity, can make all the difference in the world.\""
      ]
     },
     "execution_count": 11,
     "metadata": {},
     "output_type": "execute_result"
    }
   ],
   "source": [
    "# query it\n",
    "query = \"What is the main topic of the speech?\"\n",
    "results = vector_db.similarity_search(query)\n",
    "results[0].page_content"
   ]
  },
  {
   "cell_type": "code",
   "execution_count": 12,
   "id": "613dc769",
   "metadata": {},
   "outputs": [],
   "source": [
    "# saving the database\n",
    "vector_db=Chroma.from_documents(texts, embeddings,persist_directory=\"./chroma_db\")"
   ]
  },
  {
   "cell_type": "code",
   "execution_count": 13,
   "id": "12fd5ff2",
   "metadata": {},
   "outputs": [
    {
     "data": {
      "text/plain": [
       "[Document(id='088c6f5c-db49-486c-8a90-f101a97ffbe3', metadata={'source': 'speech.txt'}, page_content=\"Life has a beautiful way of surprising us when we least expect it. In moments of difficulty, even a small gesture of kindness can bring immense comfort. Whether it's a warm smile, a thoughtful message, or simply someone showing up when you're down, these acts remind us that we are not alone. Healing isn't always about medicine—sometimes, it's about presence. The care we receive during our weakest times becomes a memory we carry forever. Gratitude grows quietly but deeply in such moments. And sometimes, just one person, arriving with love and sincerity, can make all the difference in the world.\")]"
      ]
     },
     "execution_count": 13,
     "metadata": {},
     "output_type": "execute_result"
    }
   ],
   "source": [
    "# loading the database from disk\n",
    "db2 = Chroma(persist_directory=\"./chroma_db\", embedding_function=embeddings)\n",
    "dox=db2.similarity_search(query)\n",
    "dox"
   ]
  },
  {
   "cell_type": "code",
   "execution_count": 14,
   "id": "3084beeb",
   "metadata": {},
   "outputs": [
    {
     "data": {
      "text/plain": [
       "\"Life has a beautiful way of surprising us when we least expect it. In moments of difficulty, even a small gesture of kindness can bring immense comfort. Whether it's a warm smile, a thoughtful message, or simply someone showing up when you're down, these acts remind us that we are not alone. Healing isn't always about medicine—sometimes, it's about presence. The care we receive during our weakest times becomes a memory we carry forever. Gratitude grows quietly but deeply in such moments. And sometimes, just one person, arriving with love and sincerity, can make all the difference in the world.\""
      ]
     },
     "execution_count": 14,
     "metadata": {},
     "output_type": "execute_result"
    }
   ],
   "source": [
    "# retrieving the original document\n",
    "ret=vector_db.as_retriever()\n",
    "ret.invoke(query)[0].page_content"
   ]
  }
 ],
 "metadata": {
  "kernelspec": {
   "display_name": "Python 3",
   "language": "python",
   "name": "python3"
  },
  "language_info": {
   "codemirror_mode": {
    "name": "ipython",
    "version": 3
   },
   "file_extension": ".py",
   "mimetype": "text/x-python",
   "name": "python",
   "nbconvert_exporter": "python",
   "pygments_lexer": "ipython3",
   "version": "3.10.0"
  }
 },
 "nbformat": 4,
 "nbformat_minor": 5
}
