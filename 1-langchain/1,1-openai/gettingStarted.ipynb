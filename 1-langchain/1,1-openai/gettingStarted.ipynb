{
 "cells": [
  {
   "cell_type": "markdown",
   "id": "91b76677",
   "metadata": {},
   "source": [
    "### \n",
    "1st==getting started or setup with langchain.langsmith and langserve .\n",
    "\n",
    "2nd== RAG(retrival augmented generation)\n",
    "\n",
    "4 STEPS:data ingestion(pdfs info etc),transformation(text),embedding(vectors),vector store DB(FAAIS,CHROMA,ASTRA DB),query(questiions asked)"
   ]
  },
  {
   "cell_type": "code",
   "execution_count": null,
   "id": "72bb508f",
   "metadata": {
    "vscode": {
     "languageId": "plaintext"
    }
   },
   "outputs": [],
   "source": []
  },
  {
   "cell_type": "code",
   "execution_count": null,
   "id": "fefb5c4a",
   "metadata": {
    "vscode": {
     "languageId": "plaintext"
    }
   },
   "outputs": [],
   "source": []
  }
 ],
 "metadata": {
  "language_info": {
   "name": "python"
  }
 },
 "nbformat": 4,
 "nbformat_minor": 5
}
